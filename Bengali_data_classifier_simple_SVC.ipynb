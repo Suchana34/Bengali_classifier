{
  "nbformat": 4,
  "nbformat_minor": 0,
  "metadata": {
    "colab": {
      "name": "Bengali_data_classifier_simple_SVC.ipynb",
      "provenance": []
    },
    "kernelspec": {
      "name": "python3",
      "display_name": "Python 3"
    }
  },
  "cells": [
    {
      "cell_type": "code",
      "metadata": {
        "id": "vlWjPxVi3vPV",
        "colab_type": "code",
        "colab": {}
      },
      "source": [
        "from google.colab import drive\n",
        "drive.mount('/content/drive')"
      ],
      "execution_count": null,
      "outputs": []
    },
    {
      "cell_type": "code",
      "metadata": {
        "id": "78bWyO9v33Le",
        "colab_type": "code",
        "colab": {}
      },
      "source": [
        "import pandas as pd\n",
        "df_eng = pd.read_csv('/content/drive/My Drive/edited_topics_set2.csv')\n",
        "df_beng = pd.read_csv('/content/drive/My Drive/edited_tag_bengali.csv')"
      ],
      "execution_count": 1,
      "outputs": []
    },
    {
      "cell_type": "code",
      "metadata": {
        "id": "F_djkf-55niz",
        "colab_type": "code",
        "colab": {
          "base_uri": "https://localhost:8080/",
          "height": 34
        },
        "outputId": "d58d622a-99e5-47c7-f09e-ccd05219a2de"
      },
      "source": [
        "#vectorization\n",
        "from sklearn.feature_extraction.text import TfidfVectorizer\n",
        "def vectorize(text, maxx_features):\n",
        "    \n",
        "    vectorizer = TfidfVectorizer(max_features=maxx_features)\n",
        "    X = vectorizer.fit_transform(text)\n",
        "    return X\n",
        "\n",
        "# vectorizing processed content\n",
        "\n",
        "text_eng = df_eng['processed_content'].values\n",
        "X_eng = vectorize(text_eng, 643)\n",
        "X_eng.shape\n"
      ],
      "execution_count": 8,
      "outputs": [
        {
          "output_type": "execute_result",
          "data": {
            "text/plain": [
              "(2155, 643)"
            ]
          },
          "metadata": {
            "tags": []
          },
          "execution_count": 8
        }
      ]
    },
    {
      "cell_type": "code",
      "metadata": {
        "id": "LC4mYOxHxf43",
        "colab_type": "code",
        "colab": {
          "base_uri": "https://localhost:8080/",
          "height": 34
        },
        "outputId": "51cb1838-b22c-4605-dc8d-7b4da58d3e5c"
      },
      "source": [
        "from sklearn.decomposition import PCA\n",
        "\n",
        "pca = PCA(n_components=0.95, random_state=42)\n",
        "X_reduced= pca.fit_transform(X_eng.toarray())\n",
        "X_reduced.shape"
      ],
      "execution_count": 9,
      "outputs": [
        {
          "output_type": "execute_result",
          "data": {
            "text/plain": [
              "(2155, 467)"
            ]
          },
          "metadata": {
            "tags": []
          },
          "execution_count": 9
        }
      ]
    },
    {
      "cell_type": "code",
      "metadata": {
        "id": "DZ0HSj8k6MMk",
        "colab_type": "code",
        "colab": {
          "base_uri": "https://localhost:8080/",
          "height": 34
        },
        "outputId": "abd303bc-7d09-4840-d2dd-2f936adc66e3"
      },
      "source": [
        "text_beng = df_beng['processed_tags'].values\n",
        "X_beng = vectorize(text_beng, 467)\n",
        "X_beng.shape"
      ],
      "execution_count": 10,
      "outputs": [
        {
          "output_type": "execute_result",
          "data": {
            "text/plain": [
              "(316, 467)"
            ]
          },
          "metadata": {
            "tags": []
          },
          "execution_count": 10
        }
      ]
    },
    {
      "cell_type": "markdown",
      "metadata": {
        "id": "u414iA588s9A",
        "colab_type": "text"
      },
      "source": [
        "Clustering task "
      ]
    },
    {
      "cell_type": "code",
      "metadata": {
        "id": "yiz9fYRe6irA",
        "colab_type": "code",
        "colab": {
          "base_uri": "https://localhost:8080/",
          "height": 50
        },
        "outputId": "1da53e63-738d-4386-c9cc-7a390ed9d8ee"
      },
      "source": [
        "from sklearn.cluster import KMeans\n",
        "from sklearn import metrics\n",
        "from scipy.spatial.distance import cdist\n",
        "import numpy as np\n",
        "\n",
        "# run kmeans with many different k\n",
        "distortions = []\n",
        "K = range(28, 30)\n",
        "for k in K:\n",
        "    k_means = KMeans(n_clusters=k, random_state=42).fit(X_reduced)\n",
        "    k_means.fit(X_reduced)\n",
        "    distortions.append(sum(np.min(cdist(X_reduced, k_means.cluster_centers_, 'euclidean'), axis=1)) / X_eng.shape[0])\n",
        "    print('Found distortion for {} clusters'.format(k))"
      ],
      "execution_count": 11,
      "outputs": [
        {
          "output_type": "stream",
          "text": [
            "Found distortion for 28 clusters\n",
            "Found distortion for 29 clusters\n"
          ],
          "name": "stdout"
        }
      ]
    },
    {
      "cell_type": "code",
      "metadata": {
        "id": "aU_ex2xE6y2R",
        "colab_type": "code",
        "colab": {
          "base_uri": "https://localhost:8080/",
          "height": 295
        },
        "outputId": "708c0a0d-3ad7-4416-9258-549a2e6513cd"
      },
      "source": [
        "import matplotlib.pyplot as plt\n",
        "\n",
        "X_line = [K[0], K[-1]]\n",
        "Y_line = [distortions[0], distortions[-1]]\n",
        "\n",
        "# Plot the elbow\n",
        "plt.plot(K, distortions, 'b')\n",
        "plt.plot(X_line, Y_line, 'r')\n",
        "plt.xlabel('k')\n",
        "plt.ylabel('Distortion')\n",
        "plt.title('The Elbow Method showing the optimal k')\n",
        "plt.show()\n"
      ],
      "execution_count": 12,
      "outputs": [
        {
          "output_type": "display_data",
          "data": {
            "image/png": "[encoded data removed]",
            "text/plain": [
              "<Figure size 432x288 with 1 Axes>"
            ]
          },
          "metadata": {
            "tags": [],
            "needs_background": "light"
          }
        }
      ]
    },
    {
      "cell_type": "code",
      "metadata": {
        "id": "1DHJmnPX6zkp",
        "colab_type": "code",
        "colab": {}
      },
      "source": [
        "k = 30 #taking 30 clusters\n",
        "kmeans = KMeans(n_clusters=k, random_state=42)\n",
        "y_pred = kmeans.fit_predict(X_reduced)\n",
        "df_eng['cluster'] = y_pred ##storing the corresponding clusters of each row"
      ],
      "execution_count": 13,
      "outputs": []
    },
    {
      "cell_type": "code",
      "metadata": {
        "id": "Pl9mchx-xtU0",
        "colab_type": "code",
        "colab": {}
      },
      "source": [
        "df_eng.to_csv('/content/drive/My Drive/eng_data_for_bengali.csv')"
      ],
      "execution_count": 15,
      "outputs": []
    },
    {
      "cell_type": "code",
      "metadata": {
        "id": "_w_qD9u3Nd05",
        "colab_type": "code",
        "colab": {}
      },
      "source": [
        "# save the model in pickle file\n",
        "import pickle\n"
      ],
      "execution_count": null,
      "outputs": []
    },
    {
      "cell_type": "code",
      "metadata": {
        "id": "Vo4M3GCdNdxv",
        "colab_type": "code",
        "colab": {}
      },
      "source": [
        ""
      ],
      "execution_count": null,
      "outputs": []
    },
    {
      "cell_type": "code",
      "metadata": {
        "id": "wZs26Ts-8Ar7",
        "colab_type": "code",
        "colab": {
          "base_uri": "https://localhost:8080/",
          "height": 538
        },
        "outputId": "e4b11629-23d2-45e4-f3c8-11fbbf78618a"
      },
      "source": [
        "df_eng['cluster'].value_counts()"
      ],
      "execution_count": 16,
      "outputs": [
        {
          "output_type": "execute_result",
          "data": {
            "text/plain": [
              "1     237\n",
              "27    193\n",
              "4     115\n",
              "28    109\n",
              "21    108\n",
              "13    103\n",
              "5      88\n",
              "12     84\n",
              "3      81\n",
              "25     74\n",
              "6      74\n",
              "0      70\n",
              "14     67\n",
              "10     67\n",
              "9      65\n",
              "2      62\n",
              "15     61\n",
              "20     61\n",
              "22     56\n",
              "7      54\n",
              "11     50\n",
              "24     43\n",
              "16     39\n",
              "17     37\n",
              "23     36\n",
              "8      35\n",
              "26     27\n",
              "29     26\n",
              "19     20\n",
              "18     13\n",
              "Name: cluster, dtype: int64"
            ]
          },
          "metadata": {
            "tags": []
          },
          "execution_count": 16
        }
      ]
    },
    {
      "cell_type": "code",
      "metadata": {
        "id": "Mi_aBLh08pFo",
        "colab_type": "code",
        "colab": {}
      },
      "source": [
        ""
      ],
      "execution_count": null,
      "outputs": []
    },
    {
      "cell_type": "markdown",
      "metadata": {
        "id": "vNIK9K8R8m1i",
        "colab_type": "text"
      },
      "source": [
        "Multi-label Classification task"
      ]
    },
    {
      "cell_type": "code",
      "metadata": {
        "id": "FrX_gRUfJvuY",
        "colab_type": "code",
        "colab": {}
      },
      "source": [
        ""
      ],
      "execution_count": null,
      "outputs": []
    },
    {
      "cell_type": "code",
      "metadata": {
        "id": "WBYhqeTW9LSa",
        "colab_type": "code",
        "colab": {}
      },
      "source": [
        "#Create Dependent and Independent Datasets based on our Dependent #and Independent features\n",
        "X  = X_reduced\n",
        "y= df_eng['cluster']\n",
        "#Split the Data into Training and Testing sets with test size as #30%\n",
        "X_train, y_train = X, y\n",
        "\n",
        "X_test = X_beng\n",
        "# we dont have y_test. We need to predict using classifier model"
      ],
      "execution_count": 17,
      "outputs": []
    },
    {
      "cell_type": "code",
      "metadata": {
        "id": "uprZb68DaFBl",
        "colab_type": "code",
        "colab": {
          "base_uri": "https://localhost:8080/",
          "height": 34
        },
        "outputId": "e9420c06-0e28-47ca-a798-bc8958a01262"
      },
      "source": [
        "X_train.shape"
      ],
      "execution_count": 18,
      "outputs": [
        {
          "output_type": "execute_result",
          "data": {
            "text/plain": [
              "(2155, 467)"
            ]
          },
          "metadata": {
            "tags": []
          },
          "execution_count": 18
        }
      ]
    },
    {
      "cell_type": "code",
      "metadata": {
        "id": "e4xrNOWXaHtx",
        "colab_type": "code",
        "colab": {
          "base_uri": "https://localhost:8080/",
          "height": 34
        },
        "outputId": "10a98228-666a-49cf-fed3-8f75b94a49c7"
      },
      "source": [
        "y_train.shape"
      ],
      "execution_count": 19,
      "outputs": [
        {
          "output_type": "execute_result",
          "data": {
            "text/plain": [
              "(2155,)"
            ]
          },
          "metadata": {
            "tags": []
          },
          "execution_count": 19
        }
      ]
    },
    {
      "cell_type": "code",
      "metadata": {
        "id": "rPN7sh9daKt3",
        "colab_type": "code",
        "colab": {
          "base_uri": "https://localhost:8080/",
          "height": 34
        },
        "outputId": "1f8863c3-574a-47aa-aee7-92294116d44c"
      },
      "source": [
        "X_test.shape"
      ],
      "execution_count": 20,
      "outputs": [
        {
          "output_type": "execute_result",
          "data": {
            "text/plain": [
              "(316, 467)"
            ]
          },
          "metadata": {
            "tags": []
          },
          "execution_count": 20
        }
      ]
    },
    {
      "cell_type": "code",
      "metadata": {
        "id": "keEeKxVDZye3",
        "colab_type": "code",
        "colab": {}
      },
      "source": [
        "from sklearn.svm import LinearSVC"
      ],
      "execution_count": 21,
      "outputs": []
    },
    {
      "cell_type": "code",
      "metadata": {
        "id": "Qy0ivUnyNuck",
        "colab_type": "code",
        "colab": {}
      },
      "source": [
        "model = LinearSVC()\n",
        "model.fit(X_train, y_train)\n",
        "y_pred = model.predict(X_test)"
      ],
      "execution_count": 22,
      "outputs": []
    },
    {
      "cell_type": "code",
      "metadata": {
        "id": "igQPMHnVZ9CJ",
        "colab_type": "code",
        "colab": {}
      },
      "source": [
        "df_beng['cluster'] = y_pred"
      ],
      "execution_count": 23,
      "outputs": []
    },
    {
      "cell_type": "code",
      "metadata": {
        "id": "CEDUSP37brak",
        "colab_type": "code",
        "colab": {
          "base_uri": "https://localhost:8080/",
          "height": 464
        },
        "outputId": "2ca7a6b6-2d59-4b98-e82d-12517b7d416c"
      },
      "source": [
        "df_beng.head()"
      ],
      "execution_count": 24,
      "outputs": [
        {
          "output_type": "execute_result",
          "data": {
            "text/html": [
              "<div>\n",
              "<style scoped>\n",
              "    .dataframe tbody tr th:only-of-type {\n",
              "        vertical-align: middle;\n",
              "    }\n",
              "\n",
              "    .dataframe tbody tr th {\n",
              "        vertical-align: top;\n",
              "    }\n",
              "\n",
              "    .dataframe thead th {\n",
              "        text-align: right;\n",
              "    }\n",
              "</style>\n",
              "<table border=\"1\" class=\"dataframe\">\n",
              "  <thead>\n",
              "    <tr style=\"text-align: right;\">\n",
              "      <th></th>\n",
              "      <th>Unnamed: 0</th>\n",
              "      <th>Unnamed: 0.1</th>\n",
              "      <th>_id</th>\n",
              "      <th>heading</th>\n",
              "      <th>publish_date</th>\n",
              "      <th>imagelink</th>\n",
              "      <th>tags</th>\n",
              "      <th>content</th>\n",
              "      <th>processed_tags</th>\n",
              "      <th>cluster</th>\n",
              "    </tr>\n",
              "  </thead>\n",
              "  <tbody>\n",
              "    <tr>\n",
              "      <th>0</th>\n",
              "      <td>0</td>\n",
              "      <td>0</td>\n",
              "      <td>{'$oid': '5f0d4e9d4c97c6e27ca66cf3'}</td>\n",
              "      <td>['দেশে করোনা আক্রান্ত ন’লাখ ছাড়াল, ২৪ ঘণ্টায় ...</td>\n",
              "      <td>['১৪ জুলাই, ২০২০, ১০:৩০:০২']</td>\n",
              "      <td>['https://images.anandabazar.com/polopoly_fs/1...</td>\n",
              "      <td>['Coronavirus', 'COVID-19', 'Coronavirus in In...</td>\n",
              "      <td>['লাফিয়ে লাফিয়ে বেড়ে ভারতে করোনাভাইরাসে আক্রা...</td>\n",
              "      <td>coronavirus covid coronavirus india</td>\n",
              "      <td>1</td>\n",
              "    </tr>\n",
              "    <tr>\n",
              "      <th>1</th>\n",
              "      <td>1</td>\n",
              "      <td>1</td>\n",
              "      <td>{'$oid': '5f0d4ea04c97c6e27ca66cf4'}</td>\n",
              "      <td>['অনেক দেশ ভুল পথে হাঁটছে, ফল মারাত্মক হবে, সত...</td>\n",
              "      <td>['১৪ জুলাই, ২০২০, ০৯:৫৪:১৪']</td>\n",
              "      <td>['https://images.anandabazar.com/polopoly_fs/1...</td>\n",
              "      <td>['WHO', 'coronavirus']</td>\n",
              "      <td>[' বিষয়ে অনেক দেশই ভুল পথে হাঁটছে। ফলে সময়ের স...</td>\n",
              "      <td>coronavirus</td>\n",
              "      <td>20</td>\n",
              "    </tr>\n",
              "    <tr>\n",
              "      <th>2</th>\n",
              "      <td>2</td>\n",
              "      <td>2</td>\n",
              "      <td>{'$oid': '5f0d4ea34c97c6e27ca66cf5'}</td>\n",
              "      <td>['গহলৌতেই আস্থা, রফার খোঁজ প্রিয়ঙ্কার']</td>\n",
              "      <td>['১৪ জুলাই, ২০২০, ০৪:০১:৩৯']</td>\n",
              "      <td>['https://images.anandabazar.com/polopoly_fs/1...</td>\n",
              "      <td>['Ashok Gehlot', 'Congress', 'Priyanka Gandhi ...</td>\n",
              "      <td>['মরু-রাজ্যে গোষ্ঠীদ্বন্দ্বের চোরাবালিতে কংগ্র...</td>\n",
              "      <td>ashok gehlot congress priyanka gandhi vadra</td>\n",
              "      <td>26</td>\n",
              "    </tr>\n",
              "    <tr>\n",
              "      <th>3</th>\n",
              "      <td>3</td>\n",
              "      <td>3</td>\n",
              "      <td>{'$oid': '5f0d4ea64c97c6e27ca66cf6'}</td>\n",
              "      <td>['হেমতাবাদের বিধায়কের মৃত্যুতে রহস্য, তদন্তে ...</td>\n",
              "      <td>['১৪ জুলাই, ২০২০, ০৪:০৭:৫১']</td>\n",
              "      <td>['https://images.anandabazar.com/polopoly_fs/1...</td>\n",
              "      <td>['Death', 'BJP', 'MLA', 'Hemtabad', 'CID']</td>\n",
              "      <td>['উত্তর দিনাজপুরের হেমতাবাদের বিধায়ক দেব্রেন্দ...</td>\n",
              "      <td>death hemtabad</td>\n",
              "      <td>27</td>\n",
              "    </tr>\n",
              "    <tr>\n",
              "      <th>4</th>\n",
              "      <td>4</td>\n",
              "      <td>4</td>\n",
              "      <td>{'$oid': '5f0d4eaa4c97c6e27ca66cf7'}</td>\n",
              "      <td>['কংগ্রেস হাইকমান্ডের কি আর দলের উপরে ‘কমান্ড’...</td>\n",
              "      <td>['১৪ জুলাই, ২০২০, ০৩:৪৭:৫১']</td>\n",
              "      <td>['https://images.anandabazar.com/polopoly_fs/1...</td>\n",
              "      <td>['Congress', 'Sonia Gandhi', 'Rahul Gandhi', '...</td>\n",
              "      <td>['আকবর রোডের ২৪ নম্বর বাংলো চত্বরে প্রশ্নটা ঘু...</td>\n",
              "      <td>congress sonia gandhi rahul gandhi sachin pilot</td>\n",
              "      <td>12</td>\n",
              "    </tr>\n",
              "  </tbody>\n",
              "</table>\n",
              "</div>"
            ],
            "text/plain": [
              "   Unnamed: 0  ...  cluster\n",
              "0           0  ...        1\n",
              "1           1  ...       20\n",
              "2           2  ...       26\n",
              "3           3  ...       27\n",
              "4           4  ...       12\n",
              "\n",
              "[5 rows x 10 columns]"
            ]
          },
          "metadata": {
            "tags": []
          },
          "execution_count": 24
        }
      ]
    },
    {
      "cell_type": "code",
      "metadata": {
        "id": "nfHoBLWGbtXl",
        "colab_type": "code",
        "colab": {
          "base_uri": "https://localhost:8080/",
          "height": 791
        },
        "outputId": "2d39269a-7cd0-44f8-e5aa-47a31b337892"
      },
      "source": [
        "import matplotlib.pyplot as plt\n",
        "import seaborn as sns\n",
        "\n",
        "\n",
        "#No. of contents in each category\n",
        "count_df = pd.DataFrame(df_beng['cluster'].value_counts()).reset_index()\n",
        "print('There are', len(count_df), 'news categories')\n",
        "\n",
        "sns.set_style('darkgrid')\n",
        "plt.figure(figsize=(10, 12))\n",
        "sns.barplot(data=count_df, y='cluster', x='index', palette='Dark2')\n",
        "plt.title('No. news in each category', loc='left', fontsize=20)\n",
        "plt.xlabel(\"\")\n",
        "plt.ylabel(\"\")\n",
        "plt.show()"
      ],
      "execution_count": 25,
      "outputs": [
        {
          "output_type": "stream",
          "text": [
            "/usr/local/lib/python3.6/dist-packages/statsmodels/tools/_testing.py:19: FutureWarning: pandas.util.testing is deprecated. Use the functions in the public API at pandas.testing instead.\n",
            "  import pandas.util.testing as tm\n"
          ],
          "name": "stderr"
        },
        {
          "output_type": "stream",
          "text": [
            "There are 28 news categories\n"
          ],
          "name": "stdout"
        },
        {
          "output_type": "display_data",
          "data": {
            "image/png": "[encoded data removed]",
            "text/plain": [
              "<Figure size 720x864 with 1 Axes>"
            ]
          },
          "metadata": {
            "tags": []
          }
        }
      ]
    },
    {
      "cell_type": "code",
      "metadata": {
        "id": "RID94zOWdNXh",
        "colab_type": "code",
        "colab": {
          "base_uri": "https://localhost:8080/",
          "height": 447
        },
        "outputId": "2676ad68-b168-41e3-eff1-00971eb03e24"
      },
      "source": [
        "df_beng[df_beng.cluster == 22]"
      ],
      "execution_count": 28,
      "outputs": [
        {
          "output_type": "execute_result",
          "data": {
            "text/html": [
              "<div>\n",
              "<style scoped>\n",
              "    .dataframe tbody tr th:only-of-type {\n",
              "        vertical-align: middle;\n",
              "    }\n",
              "\n",
              "    .dataframe tbody tr th {\n",
              "        vertical-align: top;\n",
              "    }\n",
              "\n",
              "    .dataframe thead th {\n",
              "        text-align: right;\n",
              "    }\n",
              "</style>\n",
              "<table border=\"1\" class=\"dataframe\">\n",
              "  <thead>\n",
              "    <tr style=\"text-align: right;\">\n",
              "      <th></th>\n",
              "      <th>Unnamed: 0</th>\n",
              "      <th>Unnamed: 0.1</th>\n",
              "      <th>_id</th>\n",
              "      <th>heading</th>\n",
              "      <th>publish_date</th>\n",
              "      <th>imagelink</th>\n",
              "      <th>tags</th>\n",
              "      <th>content</th>\n",
              "      <th>processed_tags</th>\n",
              "      <th>cluster</th>\n",
              "    </tr>\n",
              "  </thead>\n",
              "  <tbody>\n",
              "    <tr>\n",
              "      <th>71</th>\n",
              "      <td>71</td>\n",
              "      <td>75</td>\n",
              "      <td>{'$oid': '5f193f5fb097d929e9eef251'}</td>\n",
              "      <td>['টিম ইন্ডিয়ার রূপান্তরের অনুঘটক সৌরভই, আমি ওর...</td>\n",
              "      <td>['২৩ জুলাই, ২০২০, ০৯:৪৪:৫৬']</td>\n",
              "      <td>['https://images.anandabazar.com/polopoly_fs/1...</td>\n",
              "      <td>['Cricket', 'Cricketer', 'Sourav Ganguly', 'Da...</td>\n",
              "      <td>['ভারতীয় দলকে পাল্টে\\xa0দেওয়ার অনুঘটক হলেন ', ...</td>\n",
              "      <td>cricket cricket sourav ganguli david lloyd vir...</td>\n",
              "      <td>22</td>\n",
              "    </tr>\n",
              "    <tr>\n",
              "      <th>89</th>\n",
              "      <td>89</td>\n",
              "      <td>94</td>\n",
              "      <td>{'$oid': '5f193f8bb097d929e9eef264'}</td>\n",
              "      <td>['পানীয় জলে বিষ মেশায় এই দুই ব্যাকটেরিয়া, হদিশ...</td>\n",
              "      <td>['২৩ জুলাই, ২০২০, ০৮:০৬:০০']</td>\n",
              "      <td>['https://images.anandabazar.com/polopoly_fs/1...</td>\n",
              "      <td>['Ramlibacter lithotrophicus', 'Candidatus Man...</td>\n",
              "      <td>['খাওয়ার জলকে কি এ বার আরও বেশি করে\\xa0বিষমুক্...</td>\n",
              "      <td>ramlibact lithotrophicus candidatus manganitro...</td>\n",
              "      <td>22</td>\n",
              "    </tr>\n",
              "    <tr>\n",
              "      <th>97</th>\n",
              "      <td>97</td>\n",
              "      <td>103</td>\n",
              "      <td>{'$oid': '5f1fd02b93d97055e9d6ba52'}</td>\n",
              "      <td>['কেকেআরে সই করা পুত্র না শিষ্য, সমর্থন কাকে? ...</td>\n",
              "      <td>['২৮ জুলাই, ২০২০, ১১:৩৬:৫৬']</td>\n",
              "      <td>['https://images.anandabazar.com/polopoly_fs/1...</td>\n",
              "      <td>['Rohit Sharma', 'Dinesh Lad', 'Siddhesh Lad',...</td>\n",
              "      <td>['-এ রয়েছেন ছেলে। ', ' প্রিয় শিষ্য। এ বারের ',...</td>\n",
              "      <td>rohit sharma dinesh siddhesh mumbai indian kol...</td>\n",
              "      <td>22</td>\n",
              "    </tr>\n",
              "    <tr>\n",
              "      <th>168</th>\n",
              "      <td>168</td>\n",
              "      <td>179</td>\n",
              "      <td>{'$oid': '5f2b6dd1c31c6d34f4511867'}</td>\n",
              "      <td>['৩৭০ বিলোপের ৩৬৫ দিন: ‘দুর্দশার বছর’']</td>\n",
              "      <td>['৬ অগস্ট, ২০২০, ০৪:২৪:০১']</td>\n",
              "      <td>['https://images.anandabazar.com/polopoly_fs/1...</td>\n",
              "      <td>['Jammu', 'Kashmir', 'Srinagar']</td>\n",
              "      <td>['মুখ থুবড়ে পড়া অর্থনাতি। বেকারত্ব। স্তব্ধ ব...</td>\n",
              "      <td>jammu kashmir srinagar</td>\n",
              "      <td>22</td>\n",
              "    </tr>\n",
              "    <tr>\n",
              "      <th>183</th>\n",
              "      <td>183</td>\n",
              "      <td>195</td>\n",
              "      <td>{'$oid': '5f2b6df7c31c6d34f4511877'}</td>\n",
              "      <td>['সুস্থেরা আবার ‘পজ়িটিভ’ চিনে']</td>\n",
              "      <td>['৬ অগস্ট, ২০২০, ০৩:১৫:৪১']</td>\n",
              "      <td>['https://images.anandabazar.com/polopoly_fs/1...</td>\n",
              "      <td>['China', 'USA', 'Coronavirus']</td>\n",
              "      <td>['ফের এক দিনে হাজারের উপরে মৃত্যু আমেরিকায়। সং...</td>\n",
              "      <td>china coronavirus</td>\n",
              "      <td>22</td>\n",
              "    </tr>\n",
              "  </tbody>\n",
              "</table>\n",
              "</div>"
            ],
            "text/plain": [
              "     Unnamed: 0  ...  cluster\n",
              "71           71  ...       22\n",
              "89           89  ...       22\n",
              "97           97  ...       22\n",
              "168         168  ...       22\n",
              "183         183  ...       22\n",
              "\n",
              "[5 rows x 10 columns]"
            ]
          },
          "metadata": {
            "tags": []
          },
          "execution_count": 28
        }
      ]
    },
    {
      "cell_type": "code",
      "metadata": {
        "id": "UrY6z03peFn7",
        "colab_type": "code",
        "colab": {}
      },
      "source": [
        ""
      ],
      "execution_count": null,
      "outputs": []
    },
    {
      "cell_type": "code",
      "metadata": {
        "id": "UvyGZ24_eFq8",
        "colab_type": "code",
        "colab": {}
      },
      "source": [
        ""
      ],
      "execution_count": null,
      "outputs": []
    },
    {
      "cell_type": "code",
      "metadata": {
        "id": "aJBTmgWYdY5m",
        "colab_type": "code",
        "colab": {
          "base_uri": "https://localhost:8080/",
          "height": 118
        },
        "outputId": "3eea96db-a3ca-47ef-c106-04752c2e9eb4"
      },
      "source": [
        "from sklearn.decomposition import LatentDirichletAllocation\n",
        "from sklearn.feature_extraction.text import CountVectorizer\n",
        "\n",
        "#First we will create 20 vectorizers, one for each of our cluster labels\n",
        "\n",
        "vectorizers = []\n",
        "    \n",
        "for ii in range(0, 30):\n",
        " #   Creating a vectorizer\n",
        "   vectorizers.append(CountVectorizer(stop_words='english', lowercase=True, token_pattern='[a-zA-Z\\-][a-zA-Z\\-]{2,}'))\n",
        "\n",
        "vectorizers[0]"
      ],
      "execution_count": 29,
      "outputs": [
        {
          "output_type": "execute_result",
          "data": {
            "text/plain": [
              "CountVectorizer(analyzer='word', binary=False, decode_error='strict',\n",
              "                dtype=<class 'numpy.int64'>, encoding='utf-8', input='content',\n",
              "                lowercase=True, max_df=1.0, max_features=None, min_df=1,\n",
              "                ngram_range=(1, 1), preprocessor=None, stop_words='english',\n",
              "                strip_accents=None, token_pattern='[a-zA-Z\\\\-][a-zA-Z\\\\-]{2,}',\n",
              "                tokenizer=None, vocabulary=None)"
            ]
          },
          "metadata": {
            "tags": []
          },
          "execution_count": 29
        }
      ]
    },
    {
      "cell_type": "code",
      "metadata": {
        "id": "jbi8D_7GeEiW",
        "colab_type": "code",
        "colab": {
          "base_uri": "https://localhost:8080/",
          "height": 67
        },
        "outputId": "060ed2ff-f5e6-458a-aac0-9e00a0fafdc2"
      },
      "source": [
        "#Now we will vectorize the data from each of our clusters\n",
        "\n",
        "vectorized_data = []\n",
        "\n",
        "for current_cluster, cvec in enumerate(vectorizers):\n",
        "   try:\n",
        "       vectorized_data.append(cvec.fit_transform(df_beng.loc[df_beng['cluster'] == current_cluster, 'processed_tags']))\n",
        "   except Exception as e:\n",
        "       print(\"Not enough instances in cluster: \" + str(current_cluster))\n",
        "       vectorized_data.append(None)\n",
        "len(vectorized_data)"
      ],
      "execution_count": 30,
      "outputs": [
        {
          "output_type": "stream",
          "text": [
            "Not enough instances in cluster: 13\n",
            "Not enough instances in cluster: 19\n"
          ],
          "name": "stdout"
        },
        {
          "output_type": "execute_result",
          "data": {
            "text/plain": [
              "30"
            ]
          },
          "metadata": {
            "tags": []
          },
          "execution_count": 30
        }
      ]
    },
    {
      "cell_type": "code",
      "metadata": {
        "id": "D98JHnI7eQjc",
        "colab_type": "code",
        "colab": {
          "base_uri": "https://localhost:8080/",
          "height": 134
        },
        "outputId": "d12d5d4c-f21e-44c9-8f98-c1a1e31319cd"
      },
      "source": [
        "#number of topics per cluster\n",
        "NUM_TOPICS_PER_CLUSTER = 20\n",
        "\n",
        "lda_models = []\n",
        "for ii in range(0, 30):\n",
        "    #Latent Dirichlet Allocation Model\n",
        "   lda = LatentDirichletAllocation(n_components=NUM_TOPICS_PER_CLUSTER, max_iter=10, learning_method='online',verbose=False, random_state=42)\n",
        "   lda_models.append(lda)\n",
        "    \n",
        "lda_models[0]"
      ],
      "execution_count": 31,
      "outputs": [
        {
          "output_type": "execute_result",
          "data": {
            "text/plain": [
              "LatentDirichletAllocation(batch_size=128, doc_topic_prior=None,\n",
              "                          evaluate_every=-1, learning_decay=0.7,\n",
              "                          learning_method='online', learning_offset=10.0,\n",
              "                          max_doc_update_iter=100, max_iter=10,\n",
              "                          mean_change_tol=0.001, n_components=20, n_jobs=None,\n",
              "                          perp_tol=0.1, random_state=42, topic_word_prior=None,\n",
              "                          total_samples=1000000.0, verbose=False)"
            ]
          },
          "metadata": {
            "tags": []
          },
          "execution_count": 31
        }
      ]
    },
    {
      "cell_type": "code",
      "metadata": {
        "id": "3Q-3UzhsehOT",
        "colab_type": "code",
        "colab": {
          "base_uri": "https://localhost:8080/",
          "height": 185
        },
        "outputId": "570e3d41-c7e3-43f8-bb32-fcb74892273f"
      },
      "source": [
        "#For each cluster, we had created a correspoding LDA model in the previous step. We will now fit_transform all the LDA models on their respective cluster vectors\n",
        "\n",
        "clusters_lda_data = []\n",
        "\n",
        "for current_cluster, lda in enumerate(lda_models):\n",
        "    # print(\"Current Cluster: \" + str(current_cluster))\n",
        "    \n",
        "    if vectorized_data[current_cluster] != None:\n",
        "        clusters_lda_data.append((lda.fit_transform(vectorized_data[current_cluster])))\n",
        "        \n",
        "#Extracts the keywords from each cluster\n",
        "\n",
        "# Functions for printing keywords for each topic\n",
        "def selected_topics(model, vectorizer, top_n=3):\n",
        "    current_words = []\n",
        "    keywords = []\n",
        "    \n",
        "    for idx, topic in enumerate(model.components_):\n",
        "        words = [(vectorizer.get_feature_names()[i], topic[i]) for i in topic.argsort()[:-top_n - 1:-1]]\n",
        "        for word in words:\n",
        "            if word[0] not in current_words:\n",
        "                keywords.append(word)\n",
        "                current_words.append(word[0])\n",
        "                \n",
        "    keywords.sort(key = lambda x: x[1])  \n",
        "    keywords.reverse()\n",
        "    return_values = []\n",
        "    for ii in keywords:\n",
        "        return_values.append(ii[0])\n",
        "    return return_values\n",
        "\n",
        "#Append list of keywords for a single cluster to 2D list of length NUM_TOPICS_PER_CLUSTER\n",
        "\n",
        "all_keywords = []\n",
        "for current_vectorizer, lda in enumerate(lda_models):\n",
        "    # print(\"Current Cluster: \" + str(current_vectorizer))\n",
        "\n",
        "    if vectorized_data[current_vectorizer] != None:\n",
        "        all_keywords.append(selected_topics(lda, vectorizers[current_vectorizer]))\n",
        "all_keywords[3][:10]"
      ],
      "execution_count": 32,
      "outputs": [
        {
          "output_type": "execute_result",
          "data": {
            "text/plain": [
              "['hospit',\n",
              " 'cricket',\n",
              " 'disha',\n",
              " 'sushant',\n",
              " 'bgcl',\n",
              " 'polit',\n",
              " 'sharma',\n",
              " 'salian',\n",
              " 'amphan',\n",
              " 'anushka']"
            ]
          },
          "metadata": {
            "tags": []
          },
          "execution_count": 32
        }
      ]
    },
    {
      "cell_type": "code",
      "metadata": {
        "id": "y0uL4BCAenyE",
        "colab_type": "code",
        "colab": {
          "base_uri": "https://localhost:8080/",
          "height": 666
        },
        "outputId": "5595709d-8545-4930-d2a3-ad941ce5f0e9"
      },
      "source": [
        "#lda\n",
        "\n",
        "for i in range(0,30):\n",
        "  print(all_keywords[i][:10])"
      ],
      "execution_count": 33,
      "outputs": [
        {
          "output_type": "stream",
          "text": [
            "['cricket', 'india', 'ladakh', 'healthi', 'pump', 'kapil', 'chakraborti', 'viral', 'anamika', 'neel']\n",
            "['coronavirus', 'india', 'healthi', 'live', 'tip', 'shakespear', 'debendranath', 'rakhi', 'cima', 'hemtabad']\n",
            "['infrastructur', 'dhirubhai', 'anil', 'relianc', 'adag', 'group', 'rana', 'bank', 'kapoor', 'ambani']\n",
            "['hospit', 'cricket', 'disha', 'sushant', 'bgcl', 'polit', 'sharma', 'salian', 'amphan', 'anushka']\n",
            "['independ', 'narendra', 'asia', 'shoaib', 'modi', 'crime', 'delhi', 'ravichandran', 'sangakkara', 'depart']\n",
            "['kolkata', 'corona', 'list', 'wasim', 'brian', 'educ', 'tamil', 'team', 'lockdown', 'ayodhya']\n",
            "['govern', 'speech', 'polit', 'independ', 'coronavirus', 'retir', 'virat', 'polic', 'yuzvendra', 'enforc']\n",
            "['mosqu', 'high', 'gurdwara', 'singh', 'thunder', 'volcano', 'captain', 'lahor', 'amarind', 'india']\n",
            "['banerje', 'chatterje', 'televis', 'aparajita', 'baishakhi', 'rajput', 'singh', 'adhya', 'lokhand', 'ankita']\n",
            "['dermatolog', 'corona', 'live', 'televis', 'healthi', 'coronavirus', 'mask', 'skin', 'acn', 'covid']\n",
            "['test', 'covid', 'antibodi', 'shah', 'coronavirus', 'tip', 'corona', 'biotech', 'amit', 'lockdown']\n",
            "['hardik', 'natasa', 'pandya']\n",
            "['panskura', 'twitter', 'bangladesh', 'fraud', 'oximet', 'polit', 'covid', 'gandhi', 'rahul', 'sonia']\n",
            "['kolkata', 'coronavirus', 'ranjan', 'somen', 'gogoi', 'pradip', 'garg', 'chowdhuri', 'mannan', 'covid']\n",
            "['chines', 'hindu', 'uniti', 'cafeteria', 'muslim', 'china', 'trump', 'protest', 'hall', 'mandir']\n",
            "['coronavirus', 'plane', 'crash', 'pakistan', 'franc', 'jhargram', 'rafal', 'health', 'violenc', 'midnapor']\n",
            "['jissu', 'banerje', 'movi', 'sengupta', 'mahesh', 'bhatt', 'rahul', 'sadak', 'alia', 'bollywood']\n",
            "['hilsa', 'illish', 'dhoni', 'king', 'super', 'east', 'chennai', 'shukla', 'ratan', 'ditipriya']\n",
            "['cricket', 'coronavirus', 'mamata', 'polit', 'clash', 'girl', 'banerje', 'covid', 'mother', 'anandapur']\n",
            "['hospit', 'recep', 'great', 'medic', 'mosqu', 'calcutta', 'pradesh', 'mayawati', 'yogi', 'mohan']\n",
            "['fuel', 'david', 'lithotrophicus', 'manganes', 'coronavirus', 'sourav', 'dinesh', 'rohit', 'jammu', 'srinagar']\n",
            "['bachchan', 'amitabh', 'jammu', 'faesal', 'jkpm', 'mumbai', 'shah', 'banerje', 'kashmir', 'covid']\n",
            "['mandir', 'coronavirus', 'pujan', 'ayodhya', 'bhumi', 'narendra', 'bengal', 'healthi', 'corona', 'blood']\n",
            "['india', 'singh', 'mahendra', 'dhoni', 'bhattacharya', 'cricket', 'chanchal']\n",
            "['serial', 'gandhi', 'priyanka', 'prothoma', 'ravindra', 'kadambini', 'jadeja', 'prashant', 'congress', 'trina']\n",
            "['coronavirus', 'covid', 'health', 'sushant', 'rajput', 'singh', 'dhankhar', 'india', 'presid', 'campustocar']\n",
            "['covid', 'banerje', 'pranab', 'vinayak', 'mukherje', 'bengal', 'presid', 'sharmistha', 'abhijit', 'coronavirus']\n",
            "['murder', 'basanti', 'biden', 'gate', 'obama', 'crime', 'banerje', 'bitcoin', 'barak', 'mamata']\n"
          ],
          "name": "stdout"
        },
        {
          "output_type": "error",
          "ename": "IndexError",
          "evalue": "ignored",
          "traceback": [
            "\u001b[0;31m---------------------------------------------------------------------------\u001b[0m",
            "\u001b[0;31mIndexError\u001b[0m                                Traceback (most recent call last)",
            "\u001b[0;32m<ipython-input-33-6f6d30cac406>\u001b[0m in \u001b[0;36m<module>\u001b[0;34m()\u001b[0m\n\u001b[1;32m      2\u001b[0m \u001b[0;34m\u001b[0m\u001b[0m\n\u001b[1;32m      3\u001b[0m \u001b[0;32mfor\u001b[0m \u001b[0mi\u001b[0m \u001b[0;32min\u001b[0m \u001b[0mrange\u001b[0m\u001b[0;34m(\u001b[0m\u001b[0;36m0\u001b[0m\u001b[0;34m,\u001b[0m\u001b[0;36m30\u001b[0m\u001b[0;34m)\u001b[0m\u001b[0;34m:\u001b[0m\u001b[0;34m\u001b[0m\u001b[0;34m\u001b[0m\u001b[0m\n\u001b[0;32m----> 4\u001b[0;31m   \u001b[0mprint\u001b[0m\u001b[0;34m(\u001b[0m\u001b[0mall_keywords\u001b[0m\u001b[0;34m[\u001b[0m\u001b[0mi\u001b[0m\u001b[0;34m]\u001b[0m\u001b[0;34m[\u001b[0m\u001b[0;34m:\u001b[0m\u001b[0;36m10\u001b[0m\u001b[0;34m]\u001b[0m\u001b[0;34m)\u001b[0m\u001b[0;34m\u001b[0m\u001b[0;34m\u001b[0m\u001b[0m\n\u001b[0m",
            "\u001b[0;31mIndexError\u001b[0m: list index out of range"
          ]
        }
      ]
    },
    {
      "cell_type": "code",
      "metadata": {
        "id": "EmJUEo0cenvJ",
        "colab_type": "code",
        "colab": {}
      },
      "source": [
        ""
      ],
      "execution_count": null,
      "outputs": []
    },
    {
      "cell_type": "code",
      "metadata": {
        "id": "1WbynlyGezlM",
        "colab_type": "code",
        "colab": {}
      },
      "source": [
        ""
      ],
      "execution_count": null,
      "outputs": []
    },
    {
      "cell_type": "code",
      "metadata": {
        "id": "KjbynZdKezov",
        "colab_type": "code",
        "colab": {
          "base_uri": "https://localhost:8080/",
          "height": 67
        },
        "outputId": "6f0075c5-a91d-4120-da92-bcb13becf783"
      },
      "source": [
        "# function to print out classification model report\n",
        "def classification_report(model_name, test, pred):\n",
        "    from sklearn.metrics import precision_score, recall_score\n",
        "    from sklearn.metrics import accuracy_score\n",
        "    from sklearn.metrics import f1_score\n",
        "    \n",
        "    print(model_name, \":\\n\")\n",
        "    print(\"Accuracy Score: \", '{:,.3f}'.format(float(accuracy_score(test, pred)) * 100), \"%\")\n",
        "    print(\"     Precision: \", '{:,.3f}'.format(float(precision_score(test, pred, average='macro')) * 100), \"%\")\n",
        "    print(\"        Recall: \", '{:,.3f}'.format(float(recall_score(test, pred, average='macro')) * 100), \"%\")\n",
        "    print(\"      F1 score: \", '{:,.3f}'.format(float(f1_score(test, pred, average='macro')) * 100), \"%\")\n",
        "    \n",
        "#Let's split the data into train/test sets\n",
        "\n",
        "from sklearn.model_selection import train_test_split\n",
        "\n",
        "# test set size of 20% of the data and the random seed 42 <3\n",
        "X_train, X_test, y_train, y_test = train_test_split(X_beng.toarray(),y_pred, test_size=0.2, random_state=42)\n",
        "\n",
        "print(\"X_train size:\", len(X_train))\n",
        "print(\"X_test size:\", len(X_test), \"\\n\")"
      ],
      "execution_count": 34,
      "outputs": [
        {
          "output_type": "stream",
          "text": [
            "X_train size: 252\n",
            "X_test size: 64 \n",
            "\n"
          ],
          "name": "stdout"
        }
      ]
    },
    {
      "cell_type": "code",
      "metadata": {
        "id": "8ii8Z4IIezjl",
        "colab_type": "code",
        "colab": {
          "base_uri": "https://localhost:8080/",
          "height": 205
        },
        "outputId": "23ab82d5-42b9-48a9-bbd4-29edb51c85bf"
      },
      "source": [
        "from sklearn.model_selection import cross_val_score\n",
        "from sklearn.model_selection import cross_val_predict\n",
        "from sklearn.linear_model import SGDClassifier\n",
        "\n",
        "# SGD instance\n",
        "sgd_clf = SGDClassifier(max_iter=10000, tol=1e-3, random_state=42, n_jobs=4)\n",
        "# train SGD\n",
        "sgd_clf.fit(X_train, y_train)\n",
        "\n",
        "# cross validation predictions\n",
        "sgd_pred = cross_val_predict(sgd_clf, X_train, y_train, cv=3, n_jobs=4)\n",
        "\n",
        "# print out the classification report\n",
        "classification_report(\"Stochastic Gradient Descent Report (Training Set)\", y_train, sgd_pred)"
      ],
      "execution_count": 35,
      "outputs": [
        {
          "output_type": "stream",
          "text": [
            "/usr/local/lib/python3.6/dist-packages/sklearn/model_selection/_split.py:667: UserWarning: The least populated class in y has only 1 members, which is less than n_splits=3.\n",
            "  % (min_groups, self.n_splits)), UserWarning)\n"
          ],
          "name": "stderr"
        },
        {
          "output_type": "stream",
          "text": [
            "Stochastic Gradient Descent Report (Training Set) :\n",
            "\n",
            "Accuracy Score:  46.032 %\n",
            "     Precision:  25.611 %\n",
            "        Recall:  22.998 %\n",
            "      F1 score:  23.757 %\n"
          ],
          "name": "stdout"
        },
        {
          "output_type": "stream",
          "text": [
            "/usr/local/lib/python3.6/dist-packages/sklearn/metrics/_classification.py:1272: UndefinedMetricWarning: Precision is ill-defined and being set to 0.0 in labels with no predicted samples. Use `zero_division` parameter to control this behavior.\n",
            "  _warn_prf(average, modifier, msg_start, len(result))\n"
          ],
          "name": "stderr"
        }
      ]
    },
    {
      "cell_type": "code",
      "metadata": {
        "id": "Dr8yW0LDywSl",
        "colab_type": "code",
        "colab": {}
      },
      "source": [
        ""
      ],
      "execution_count": null,
      "outputs": []
    }
  ]
}