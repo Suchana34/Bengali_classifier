{
  "nbformat": 4,
  "nbformat_minor": 0,
  "metadata": {
    "colab": {
      "name": "Bengali_data_classifier_SVC.ipynb",
      "provenance": []
    },
    "kernelspec": {
      "name": "python3",
      "display_name": "Python 3"
    }
  },
  "cells": [
    {
      "cell_type": "code",
      "metadata": {
        "id": "vlWjPxVi3vPV",
        "colab_type": "code",
        "colab": {}
      },
      "source": [
        "from google.colab import drive\n",
        "drive.mount('/content/drive')"
      ],
      "execution_count": null,
      "outputs": []
    },
    {
      "cell_type": "code",
      "metadata": {
        "id": "78bWyO9v33Le",
        "colab_type": "code",
        "colab": {}
      },
      "source": [
        "import pandas as pd\n",
        "df_eng = pd.read_csv('/content/drive/My Drive/edited_topics_set2.csv')\n",
        "df_beng = pd.read_csv('/content/drive/My Drive/edited_tag_bengali.csv')"
      ],
      "execution_count": 3,
      "outputs": []
    },
    {
      "cell_type": "code",
      "metadata": {
        "id": "0Qfa-BK85Lsc",
        "colab_type": "code",
        "colab": {
          "base_uri": "https://localhost:8080/",
          "height": 185
        },
        "outputId": "4dd5b53e-f40b-4b12-f235-61a35f47a49e"
      },
      "source": [
        "df_beng.isnull().sum()"
      ],
      "execution_count": 7,
      "outputs": [
        {
          "output_type": "execute_result",
          "data": {
            "text/plain": [
              "Unnamed: 0        0\n",
              "Unnamed: 0.1      0\n",
              "_id               0\n",
              "heading           0\n",
              "publish_date      0\n",
              "imagelink         1\n",
              "tags              0\n",
              "content           0\n",
              "processed_tags    0\n",
              "dtype: int64"
            ]
          },
          "metadata": {
            "tags": []
          },
          "execution_count": 7
        }
      ]
    },
    {
      "cell_type": "code",
      "metadata": {
        "id": "F_djkf-55niz",
        "colab_type": "code",
        "colab": {
          "base_uri": "https://localhost:8080/",
          "height": 34
        },
        "outputId": "c4e456d9-1110-44b7-ec52-3311bb57d9db"
      },
      "source": [
        "#vectorization\n",
        "from sklearn.feature_extraction.text import TfidfVectorizer\n",
        "def vectorize(text, maxx_features):\n",
        "    \n",
        "    vectorizer = TfidfVectorizer(max_features=maxx_features)\n",
        "    X = vectorizer.fit_transform(text)\n",
        "    return X\n",
        "\n",
        "# vectorizing processed content\n",
        "\n",
        "text_eng = df_eng['processed_content'].values\n",
        "X_eng = vectorize(text_eng, 2 ** 12)\n",
        "X_eng.shape\n"
      ],
      "execution_count": 8,
      "outputs": [
        {
          "output_type": "execute_result",
          "data": {
            "text/plain": [
              "(2155, 4096)"
            ]
          },
          "metadata": {
            "tags": []
          },
          "execution_count": 8
        }
      ]
    },
    {
      "cell_type": "code",
      "metadata": {
        "id": "DZ0HSj8k6MMk",
        "colab_type": "code",
        "colab": {
          "base_uri": "https://localhost:8080/",
          "height": 34
        },
        "outputId": "9ecb1607-e12d-4fef-c43b-ffc963eaf848"
      },
      "source": [
        "\n",
        "text_beng = df_beng['processed_tags'].values\n",
        "X_beng = vectorize(text_beng, 2**12)\n",
        "X_beng.shape"
      ],
      "execution_count": 9,
      "outputs": [
        {
          "output_type": "execute_result",
          "data": {
            "text/plain": [
              "(316, 643)"
            ]
          },
          "metadata": {
            "tags": []
          },
          "execution_count": 9
        }
      ]
    },
    {
      "cell_type": "code",
      "metadata": {
        "id": "KSSMiGfA6N-N",
        "colab_type": "code",
        "colab": {
          "base_uri": "https://localhost:8080/",
          "height": 34
        },
        "outputId": "f4995855-e8fa-47a0-c994-ddc59324364b"
      },
      "source": [
        "from sklearn.decomposition import PCA\n",
        "\n",
        "pca = PCA(n_components=0.95, random_state=42)\n",
        "X_reduced= pca.fit_transform(X_eng.toarray())\n",
        "X_reduced.shape"
      ],
      "execution_count": 10,
      "outputs": [
        {
          "output_type": "execute_result",
          "data": {
            "text/plain": [
              "(2155, 1224)"
            ]
          },
          "metadata": {
            "tags": []
          },
          "execution_count": 10
        }
      ]
    },
    {
      "cell_type": "markdown",
      "metadata": {
        "id": "u414iA588s9A",
        "colab_type": "text"
      },
      "source": [
        "Clustering task "
      ]
    },
    {
      "cell_type": "code",
      "metadata": {
        "id": "yiz9fYRe6irA",
        "colab_type": "code",
        "colab": {
          "base_uri": "https://localhost:8080/",
          "height": 50
        },
        "outputId": "f511596b-cfc4-44d6-b382-4d59a8e15d4c"
      },
      "source": [
        "from sklearn.cluster import KMeans\n",
        "from sklearn import metrics\n",
        "from scipy.spatial.distance import cdist\n",
        "import numpy as np\n",
        "\n",
        "# run kmeans with many different k\n",
        "distortions = []\n",
        "K = range(28, 30)\n",
        "for k in K:\n",
        "    k_means = KMeans(n_clusters=k, random_state=42).fit(X_reduced)\n",
        "    k_means.fit(X_reduced)\n",
        "    distortions.append(sum(np.min(cdist(X_reduced, k_means.cluster_centers_, 'euclidean'), axis=1)) / X_eng.shape[0])\n",
        "    print('Found distortion for {} clusters'.format(k))"
      ],
      "execution_count": 12,
      "outputs": [
        {
          "output_type": "stream",
          "text": [
            "Found distortion for 28 clusters\n",
            "Found distortion for 29 clusters\n"
          ],
          "name": "stdout"
        }
      ]
    },
    {
      "cell_type": "code",
      "metadata": {
        "id": "aU_ex2xE6y2R",
        "colab_type": "code",
        "colab": {
          "base_uri": "https://localhost:8080/",
          "height": 295
        },
        "outputId": "f2c5d66f-c54b-4da1-add8-f104c91798a3"
      },
      "source": [
        "import matplotlib.pyplot as plt\n",
        "\n",
        "X_line = [K[0], K[-1]]\n",
        "Y_line = [distortions[0], distortions[-1]]\n",
        "\n",
        "# Plot the elbow\n",
        "plt.plot(K, distortions, 'b')\n",
        "plt.plot(X_line, Y_line, 'r')\n",
        "plt.xlabel('k')\n",
        "plt.ylabel('Distortion')\n",
        "plt.title('The Elbow Method showing the optimal k')\n",
        "plt.show()\n"
      ],
      "execution_count": 13,
      "outputs": [
        {
          "output_type": "display_data",
          "data": {
            "image/png": "[encoded data removed]",
            "text/plain": [
              "<Figure size 432x288 with 1 Axes>"
            ]
          },
          "metadata": {
            "tags": [],
            "needs_background": "light"
          }
        }
      ]
    },
    {
      "cell_type": "code",
      "metadata": {
        "id": "1DHJmnPX6zkp",
        "colab_type": "code",
        "colab": {}
      },
      "source": [
        "k = 30 #taking 30 clusters\n",
        "kmeans = KMeans(n_clusters=k, random_state=42)\n",
        "y_pred = kmeans.fit_predict(X_reduced)\n",
        "df_eng['cluster'] = y_pred ##storing the corresponding clusters of each row"
      ],
      "execution_count": 15,
      "outputs": []
    },
    {
      "cell_type": "code",
      "metadata": {
        "id": "_w_qD9u3Nd05",
        "colab_type": "code",
        "colab": {}
      },
      "source": [
        "# save the model in pickle file\n",
        "import pickle\n"
      ],
      "execution_count": null,
      "outputs": []
    },
    {
      "cell_type": "code",
      "metadata": {
        "id": "Vo4M3GCdNdxv",
        "colab_type": "code",
        "colab": {}
      },
      "source": [
        ""
      ],
      "execution_count": null,
      "outputs": []
    },
    {
      "cell_type": "code",
      "metadata": {
        "id": "wZs26Ts-8Ar7",
        "colab_type": "code",
        "colab": {
          "base_uri": "https://localhost:8080/",
          "height": 538
        },
        "outputId": "67b0f8a3-347d-4f3a-d7f0-2d2800e3170d"
      },
      "source": [
        "df_eng['cluster'].value_counts()"
      ],
      "execution_count": 16,
      "outputs": [
        {
          "output_type": "execute_result",
          "data": {
            "text/plain": [
              "5     376\n",
              "13    226\n",
              "22    105\n",
              "14     98\n",
              "1      96\n",
              "19     95\n",
              "3      95\n",
              "23     93\n",
              "11     85\n",
              "6      83\n",
              "2      78\n",
              "28     73\n",
              "21     70\n",
              "7      67\n",
              "24     64\n",
              "17     58\n",
              "25     57\n",
              "26     48\n",
              "4      39\n",
              "12     34\n",
              "10     33\n",
              "16     30\n",
              "9      29\n",
              "18     27\n",
              "27     25\n",
              "0      22\n",
              "15     18\n",
              "8      11\n",
              "20     11\n",
              "29      9\n",
              "Name: cluster, dtype: int64"
            ]
          },
          "metadata": {
            "tags": []
          },
          "execution_count": 16
        }
      ]
    },
    {
      "cell_type": "code",
      "metadata": {
        "id": "Mi_aBLh08pFo",
        "colab_type": "code",
        "colab": {}
      },
      "source": [
        ""
      ],
      "execution_count": null,
      "outputs": []
    },
    {
      "cell_type": "markdown",
      "metadata": {
        "id": "vNIK9K8R8m1i",
        "colab_type": "text"
      },
      "source": [
        "Multi-label Classification task"
      ]
    },
    {
      "cell_type": "code",
      "metadata": {
        "id": "FrX_gRUfJvuY",
        "colab_type": "code",
        "colab": {}
      },
      "source": [
        ""
      ],
      "execution_count": null,
      "outputs": []
    },
    {
      "cell_type": "code",
      "metadata": {
        "id": "WBYhqeTW9LSa",
        "colab_type": "code",
        "colab": {}
      },
      "source": [
        "#Create Dependent and Independent Datasets based on our Dependent #and Independent features\n",
        "X  = X_reduced\n",
        "y= df_eng['cluster']\n",
        "#Split the Data into Training and Testing sets with test size as #30%\n",
        "X_train, y_train = X, y\n",
        "\n",
        "X_test = X_beng\n",
        "# we dont have y_test. We need to predict using classifier model"
      ],
      "execution_count": 21,
      "outputs": []
    },
    {
      "cell_type": "markdown",
      "metadata": {
        "id": "NLOv6d5tJwCY",
        "colab_type": "text"
      },
      "source": [
        "Using Random Forest Classifier"
      ]
    },
    {
      "cell_type": "code",
      "metadata": {
        "id": "N2LQvokM8Mgw",
        "colab_type": "code",
        "colab": {
          "base_uri": "https://localhost:8080/",
          "height": 70
        },
        "outputId": "2e379f4e-cafa-4afb-b312-60029069d621"
      },
      "source": [
        "# import pickle\n",
        "# import numpy as np\n",
        "# from sklearn.ensemble import RandomForestClassifier\n",
        "# from pprint import pprint\n",
        "# from sklearn.model_selection import RandomizedSearchCV\n",
        "# from sklearn.model_selection import GridSearchCV\n",
        "# from sklearn.model_selection import ShuffleSplit\n",
        "# import matplotlib.pyplot as plt\n",
        "# import seaborn as sns"
      ],
      "execution_count": 22,
      "outputs": [
        {
          "output_type": "stream",
          "text": [
            "/usr/local/lib/python3.6/dist-packages/statsmodels/tools/_testing.py:19: FutureWarning: pandas.util.testing is deprecated. Use the functions in the public API at pandas.testing instead.\n",
            "  import pandas.util.testing as tm\n"
          ],
          "name": "stderr"
        }
      ]
    },
    {
      "cell_type": "code",
      "metadata": {
        "id": "WgoUFXla8waH",
        "colab_type": "code",
        "colab": {}
      },
      "source": [
        "# #Cross-Validation for Hyperparameter tuning\n",
        "# #First, we can see what hyperparameters the model has:\n",
        "\n",
        "# rf_0 = RandomForestClassifier(random_state = 8)\n",
        "\n",
        "# print('Parameters currently in use:\\n')\n",
        "# pprint(rf_0.get_params())"
      ],
      "execution_count": 29,
      "outputs": []
    },
    {
      "cell_type": "markdown",
      "metadata": {
        "id": "1l_vhK_KKDP3",
        "colab_type": "text"
      },
      "source": [
        "We'll tune the following ones:\n",
        "\n",
        "n_estimators = number of trees in the forest.\n",
        "\n",
        "max_features = max number of features considered for splitting a node\n",
        "\n",
        "max_depth = max number of levels in each decision tree\n",
        "\n",
        "min_samples_split = min number of data points placed in a node before the node is split\n",
        "\n",
        "min_samples_leaf = min number of data points allowed in a leaf node\n",
        "\n",
        "bootstrap = method for sampling data points (with or without replacement)"
      ]
    },
    {
      "cell_type": "code",
      "metadata": {
        "id": "_ptmxggb801x",
        "colab_type": "code",
        "colab": {}
      },
      "source": [
        "# #Randomized Search Cross Validation\n",
        "# #We first need to define the grid:\n",
        "\n",
        "# # n_estimators\n",
        "# n_estimators = [int(x) for x in np.linspace(start = 200, stop = 1000, num = 5)]\n",
        "\n",
        "# # max_features\n",
        "# max_features = ['auto', 'sqrt']\n",
        "\n",
        "# # max_depth\n",
        "# max_depth = [int(x) for x in np.linspace(20, 100, num = 5)]\n",
        "# max_depth.append(None)\n",
        "\n",
        "# # min_samples_split\n",
        "# min_samples_split = [2, 5, 10]\n",
        "\n",
        "# # min_samples_leaf\n",
        "# min_samples_leaf = [1, 2, 4]\n",
        "\n",
        "# # bootstrap\n",
        "# bootstrap = [True, False]\n",
        "\n",
        "# # Create the random grid\n",
        "# random_grid = {'n_estimators': n_estimators,\n",
        "#                'max_features': max_features,\n",
        "#                'max_depth': max_depth,\n",
        "#                'min_samples_split': min_samples_split,\n",
        "#                'min_samples_leaf': min_samples_leaf,\n",
        "#                'bootstrap': bootstrap}\n",
        "\n",
        "# pprint(random_grid)"
      ],
      "execution_count": 30,
      "outputs": []
    },
    {
      "cell_type": "code",
      "metadata": {
        "id": "LZcbWNmHKQ-x",
        "colab_type": "code",
        "colab": {}
      },
      "source": [
        "# #Then, we'll perform the Random Search:\n",
        "\n",
        "# # First create the base model to tune\n",
        "# rfc = RandomForestClassifier(random_state=8)\n",
        "\n",
        "# # Definition of the random search\n",
        "# random_search = RandomizedSearchCV(estimator=rfc,\n",
        "#                                    param_distributions=random_grid,\n",
        "#                                    n_iter=2,\n",
        "#                                    scoring='accuracy',\n",
        "#                                    cv=3, \n",
        "#                                    verbose=1, \n",
        "#                                    random_state=8)\n",
        "\n",
        "# # Fit the random search model\n",
        "# random_search.fit(X_train, y_train)"
      ],
      "execution_count": 27,
      "outputs": []
    },
    {
      "cell_type": "markdown",
      "metadata": {
        "id": "KJbxLqHcLuyg",
        "colab_type": "text"
      },
      "source": [
        "Random forest is commented because currently we arent using it as it takes too much time"
      ]
    },
    {
      "cell_type": "code",
      "metadata": {
        "id": "NVmWz4WFKdM0",
        "colab_type": "code",
        "colab": {}
      },
      "source": [
        ""
      ],
      "execution_count": null,
      "outputs": []
    },
    {
      "cell_type": "markdown",
      "metadata": {
        "id": "r8fk7JclMDV3",
        "colab_type": "text"
      },
      "source": [
        "SVC"
      ]
    },
    {
      "cell_type": "code",
      "metadata": {
        "id": "81mpg-gLL1gA",
        "colab_type": "code",
        "colab": {}
      },
      "source": [
        "import pickle\n",
        "import numpy as np\n",
        "from sklearn import svm\n",
        "from pprint import pprint\n",
        "from sklearn.model_selection import RandomizedSearchCV\n",
        "from sklearn.model_selection import GridSearchCV\n",
        "from sklearn.model_selection import ShuffleSplit\n",
        "import matplotlib.pyplot as plt\n",
        "import seaborn as sns\n",
        "import pandas as pd"
      ],
      "execution_count": 28,
      "outputs": []
    },
    {
      "cell_type": "code",
      "metadata": {
        "id": "GyP6ytx3L1jq",
        "colab_type": "code",
        "colab": {
          "base_uri": "https://localhost:8080/",
          "height": 302
        },
        "outputId": "e9a60e28-eea6-4172-a5b6-4d130678280d"
      },
      "source": [
        "svc_0 =svm.SVC(random_state=8)\n",
        "\n",
        "print('Parameters currently in use:\\n')\n",
        "pprint(svc_0.get_params())"
      ],
      "execution_count": 31,
      "outputs": [
        {
          "output_type": "stream",
          "text": [
            "Parameters currently in use:\n",
            "\n",
            "{'C': 1.0,\n",
            " 'break_ties': False,\n",
            " 'cache_size': 200,\n",
            " 'class_weight': None,\n",
            " 'coef0': 0.0,\n",
            " 'decision_function_shape': 'ovr',\n",
            " 'degree': 3,\n",
            " 'gamma': 'scale',\n",
            " 'kernel': 'rbf',\n",
            " 'max_iter': -1,\n",
            " 'probability': False,\n",
            " 'random_state': 8,\n",
            " 'shrinking': True,\n",
            " 'tol': 0.001,\n",
            " 'verbose': False}\n"
          ],
          "name": "stdout"
        }
      ]
    },
    {
      "cell_type": "markdown",
      "metadata": {
        "id": "VShKnPSQNSs9",
        "colab_type": "text"
      },
      "source": [
        "We'll tune the following ones:\n",
        "\n",
        "C: Penalty parameter C of the error term.\n",
        "\n",
        "kernel: Specifies the kernel type to be used in the algorithm.\n",
        "\n",
        "gamma: Kernel coefficient.\n",
        "\n",
        "degree: Degree of the polynomial kernel function."
      ]
    },
    {
      "cell_type": "code",
      "metadata": {
        "id": "wopCdkcOL1ee",
        "colab_type": "code",
        "colab": {
          "base_uri": "https://localhost:8080/",
          "height": 101
        },
        "outputId": "5e524bf9-ac90-4a87-b238-7eb23ee8189e"
      },
      "source": [
        "# C\n",
        "C = [.0001, .001, .01]\n",
        "\n",
        "# gamma\n",
        "gamma = [.0001, .001, .01, .1, 1, 10, 100]\n",
        "\n",
        "# degree\n",
        "degree = [1, 2, 3, 4, 5]\n",
        "\n",
        "# kernel\n",
        "kernel = ['linear', 'rbf', 'poly']\n",
        "\n",
        "# probability\n",
        "probability = [True]\n",
        "\n",
        "# Create the random grid\n",
        "random_grid = {'C': C,\n",
        "              'kernel': kernel,\n",
        "              'gamma': gamma,\n",
        "              'degree': degree,\n",
        "              'probability': probability\n",
        "             }\n",
        "\n",
        "pprint(random_grid)"
      ],
      "execution_count": 32,
      "outputs": [
        {
          "output_type": "stream",
          "text": [
            "{'C': [0.0001, 0.001, 0.01],\n",
            " 'degree': [1, 2, 3, 4, 5],\n",
            " 'gamma': [0.0001, 0.001, 0.01, 0.1, 1, 10, 100],\n",
            " 'kernel': ['linear', 'rbf', 'poly'],\n",
            " 'probability': [True]}\n"
          ],
          "name": "stdout"
        }
      ]
    },
    {
      "cell_type": "code",
      "metadata": {
        "id": "stA1NNz-Nk77",
        "colab_type": "code",
        "colab": {}
      },
      "source": [
        "# First create the base model to tune\n",
        "svc = svm.SVC(random_state=8)\n",
        "\n",
        "# Definition of the random search\n",
        "random_search = RandomizedSearchCV(estimator=svc,\n",
        "                                   param_distributions=random_grid,\n",
        "                                   n_iter=5,\n",
        "                                   scoring='accuracy',\n",
        "                                   cv=2, \n",
        "                                   verbose=1, \n",
        "                                   random_state=8)\n",
        "\n",
        "# Fit the random search model\n",
        "random_search.fit(X_train, y_train)"
      ],
      "execution_count": null,
      "outputs": []
    },
    {
      "cell_type": "markdown",
      "metadata": {
        "id": "UoxlHiVGY6DT",
        "colab_type": "text"
      },
      "source": [
        "Again takes too much time"
      ]
    },
    {
      "cell_type": "code",
      "metadata": {
        "id": "Qy0ivUnyNuck",
        "colab_type": "code",
        "colab": {}
      },
      "source": [
        ""
      ],
      "execution_count": 35,
      "outputs": []
    }
  ]
}